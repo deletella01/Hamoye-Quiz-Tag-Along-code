{
  "nbformat": 4,
  "nbformat_minor": 0,
  "metadata": {
    "colab": {
      "provenance": [],
      "authorship_tag": "ABX9TyOCsWObSnpU+KHzfwWsFi86"
    },
    "kernelspec": {
      "name": "python3",
      "display_name": "Python 3"
    },
    "language_info": {
      "name": "python"
    }
  },
  "cells": [
    {
      "cell_type": "markdown",
      "source": [
        "## Tag-Along Code for **Stage B Quiz**"
      ],
      "metadata": {
        "id": "aYNK9yIqHAiY"
      }
    },
    {
      "cell_type": "code",
      "source": [
        "!pip install gdown"
      ],
      "metadata": {
        "colab": {
          "base_uri": "https://localhost:8080/"
        },
        "id": "EQJoJA9xWm-i",
        "outputId": "c4d9b079-3ce0-4845-d517-80a0ea15981c"
      },
      "execution_count": 21,
      "outputs": [
        {
          "output_type": "stream",
          "name": "stdout",
          "text": [
            "Requirement already satisfied: gdown in /usr/local/lib/python3.10/dist-packages (4.6.6)\n",
            "Requirement already satisfied: filelock in /usr/local/lib/python3.10/dist-packages (from gdown) (3.12.4)\n",
            "Requirement already satisfied: requests[socks] in /usr/local/lib/python3.10/dist-packages (from gdown) (2.31.0)\n",
            "Requirement already satisfied: six in /usr/local/lib/python3.10/dist-packages (from gdown) (1.16.0)\n",
            "Requirement already satisfied: tqdm in /usr/local/lib/python3.10/dist-packages (from gdown) (4.66.1)\n",
            "Requirement already satisfied: beautifulsoup4 in /usr/local/lib/python3.10/dist-packages (from gdown) (4.11.2)\n",
            "Requirement already satisfied: soupsieve>1.2 in /usr/local/lib/python3.10/dist-packages (from beautifulsoup4->gdown) (2.5)\n",
            "Requirement already satisfied: charset-normalizer<4,>=2 in /usr/local/lib/python3.10/dist-packages (from requests[socks]->gdown) (3.3.0)\n",
            "Requirement already satisfied: idna<4,>=2.5 in /usr/local/lib/python3.10/dist-packages (from requests[socks]->gdown) (3.4)\n",
            "Requirement already satisfied: urllib3<3,>=1.21.1 in /usr/local/lib/python3.10/dist-packages (from requests[socks]->gdown) (2.0.6)\n",
            "Requirement already satisfied: certifi>=2017.4.17 in /usr/local/lib/python3.10/dist-packages (from requests[socks]->gdown) (2023.7.22)\n",
            "Requirement already satisfied: PySocks!=1.5.7,>=1.5.6 in /usr/local/lib/python3.10/dist-packages (from requests[socks]->gdown) (1.7.1)\n"
          ]
        }
      ]
    },
    {
      "cell_type": "code",
      "source": [
        "import gdown\n",
        "\n",
        "# Replace 'YOUR_FILE_ID' with the actual file ID from the shareable link.\n",
        "file_id = '1Eru_UHVc3WLHVveC9Q8K9QUxlzYeHt18'\n",
        "\n",
        "# Specify the destination file path and name.\n",
        "output = 'energydata_complete.csv'  # You can change the file name and extension.\n",
        "\n",
        "# Download the file.\n",
        "gdown.download(f'https://drive.google.com/uc?id={\"1Eru_UHVc3WLHVveC9Q8K9QUxlzYeHt18\"}', output, quiet=False)\n"
      ],
      "metadata": {
        "colab": {
          "base_uri": "https://localhost:8080/",
          "height": 105
        },
        "id": "cIPOR4gHXZ3e",
        "outputId": "b737439c-a905-4c62-8203-bdb90e87a360"
      },
      "execution_count": 22,
      "outputs": [
        {
          "output_type": "stream",
          "name": "stderr",
          "text": [
            "Downloading...\n",
            "From: https://drive.google.com/uc?id=1Eru_UHVc3WLHVveC9Q8K9QUxlzYeHt18\n",
            "To: /content/energydata_complete.csv\n",
            "100%|██████████| 12.0M/12.0M [00:00<00:00, 132MB/s]\n"
          ]
        },
        {
          "output_type": "execute_result",
          "data": {
            "text/plain": [
              "'energydata_complete.csv'"
            ],
            "application/vnd.google.colaboratory.intrinsic+json": {
              "type": "string"
            }
          },
          "metadata": {},
          "execution_count": 22
        }
      ]
    },
    {
      "cell_type": "code",
      "source": [
        "import pandas as pd\n",
        "\n",
        "# Import the data and view the tranpose of the first 5 rows\n",
        "df = pd.read_csv('energydata_complete.csv')  # Use the same filename you specified in the download step.\n",
        "df.head().T"
      ],
      "metadata": {
        "colab": {
          "base_uri": "https://localhost:8080/",
          "height": 959
        },
        "id": "kvtaAkCRZTYt",
        "outputId": "99151614-c7ff-40ba-d2ef-f31a5f228aa7"
      },
      "execution_count": 23,
      "outputs": [
        {
          "output_type": "execute_result",
          "data": {
            "text/plain": [
              "                               0                    1                    2  \\\n",
              "date         2016-01-11 17:00:00  2016-01-11 17:10:00  2016-01-11 17:20:00   \n",
              "Appliances                    60                   60                   50   \n",
              "lights                        30                   30                   30   \n",
              "T1                         19.89                19.89                19.89   \n",
              "RH_1                   47.596667            46.693333                 46.3   \n",
              "T2                          19.2                 19.2                 19.2   \n",
              "RH_2                       44.79              44.7225            44.626667   \n",
              "T3                         19.79                19.79                19.79   \n",
              "RH_3                       44.73                44.79            44.933333   \n",
              "T4                          19.0                 19.0            18.926667   \n",
              "RH_4                   45.566667              45.9925                45.89   \n",
              "T5                     17.166667            17.166667            17.166667   \n",
              "RH_5                        55.2                 55.2                55.09   \n",
              "T6                      7.026667             6.833333                 6.56   \n",
              "RH_6                   84.256667            84.063333            83.156667   \n",
              "T7                          17.2                 17.2                 17.2   \n",
              "RH_7                   41.626667                41.56            41.433333   \n",
              "T8                          18.2                 18.2                 18.2   \n",
              "RH_8                        48.9            48.863333                48.73   \n",
              "T9                     17.033333            17.066667                 17.0   \n",
              "RH_9                       45.53                45.56                 45.5   \n",
              "T_out                        6.6             6.483333             6.366667   \n",
              "Press_mm_hg                733.5                733.6                733.7   \n",
              "RH_out                      92.0                 92.0                 92.0   \n",
              "Windspeed                    7.0             6.666667             6.333333   \n",
              "Visibility                  63.0            59.166667            55.333333   \n",
              "Tdewpoint                    5.3                  5.2                  5.1   \n",
              "rv1                    13.275433            18.606195            28.642668   \n",
              "rv2                    13.275433            18.606195            28.642668   \n",
              "\n",
              "                               3                    4  \n",
              "date         2016-01-11 17:30:00  2016-01-11 17:40:00  \n",
              "Appliances                    50                   60  \n",
              "lights                        40                   40  \n",
              "T1                         19.89                19.89  \n",
              "RH_1                   46.066667            46.333333  \n",
              "T2                          19.2                 19.2  \n",
              "RH_2                       44.59                44.53  \n",
              "T3                         19.79                19.79  \n",
              "RH_3                        45.0                 45.0  \n",
              "T4                         18.89                18.89  \n",
              "RH_4                   45.723333                45.53  \n",
              "T5                     17.166667                 17.2  \n",
              "RH_5                       55.09                55.09  \n",
              "T6                      6.433333             6.366667  \n",
              "RH_6                   83.423333            84.893333  \n",
              "T7                     17.133333                 17.2  \n",
              "RH_7                       41.29                41.23  \n",
              "T8                          18.1                 18.1  \n",
              "RH_8                       48.59                48.59  \n",
              "T9                          17.0                 17.0  \n",
              "RH_9                        45.4                 45.4  \n",
              "T_out                       6.25             6.133333  \n",
              "Press_mm_hg                733.8                733.9  \n",
              "RH_out                      92.0                 92.0  \n",
              "Windspeed                    6.0             5.666667  \n",
              "Visibility                  51.5            47.666667  \n",
              "Tdewpoint                    5.0                  4.9  \n",
              "rv1                    45.410389            10.084097  \n",
              "rv2                    45.410389            10.084097  "
            ],
            "text/html": [
              "\n",
              "  <div id=\"df-5ff0c69b-21dd-455b-b1c1-0b41ca23d2d0\" class=\"colab-df-container\">\n",
              "    <div>\n",
              "<style scoped>\n",
              "    .dataframe tbody tr th:only-of-type {\n",
              "        vertical-align: middle;\n",
              "    }\n",
              "\n",
              "    .dataframe tbody tr th {\n",
              "        vertical-align: top;\n",
              "    }\n",
              "\n",
              "    .dataframe thead th {\n",
              "        text-align: right;\n",
              "    }\n",
              "</style>\n",
              "<table border=\"1\" class=\"dataframe\">\n",
              "  <thead>\n",
              "    <tr style=\"text-align: right;\">\n",
              "      <th></th>\n",
              "      <th>0</th>\n",
              "      <th>1</th>\n",
              "      <th>2</th>\n",
              "      <th>3</th>\n",
              "      <th>4</th>\n",
              "    </tr>\n",
              "  </thead>\n",
              "  <tbody>\n",
              "    <tr>\n",
              "      <th>date</th>\n",
              "      <td>2016-01-11 17:00:00</td>\n",
              "      <td>2016-01-11 17:10:00</td>\n",
              "      <td>2016-01-11 17:20:00</td>\n",
              "      <td>2016-01-11 17:30:00</td>\n",
              "      <td>2016-01-11 17:40:00</td>\n",
              "    </tr>\n",
              "    <tr>\n",
              "      <th>Appliances</th>\n",
              "      <td>60</td>\n",
              "      <td>60</td>\n",
              "      <td>50</td>\n",
              "      <td>50</td>\n",
              "      <td>60</td>\n",
              "    </tr>\n",
              "    <tr>\n",
              "      <th>lights</th>\n",
              "      <td>30</td>\n",
              "      <td>30</td>\n",
              "      <td>30</td>\n",
              "      <td>40</td>\n",
              "      <td>40</td>\n",
              "    </tr>\n",
              "    <tr>\n",
              "      <th>T1</th>\n",
              "      <td>19.89</td>\n",
              "      <td>19.89</td>\n",
              "      <td>19.89</td>\n",
              "      <td>19.89</td>\n",
              "      <td>19.89</td>\n",
              "    </tr>\n",
              "    <tr>\n",
              "      <th>RH_1</th>\n",
              "      <td>47.596667</td>\n",
              "      <td>46.693333</td>\n",
              "      <td>46.3</td>\n",
              "      <td>46.066667</td>\n",
              "      <td>46.333333</td>\n",
              "    </tr>\n",
              "    <tr>\n",
              "      <th>T2</th>\n",
              "      <td>19.2</td>\n",
              "      <td>19.2</td>\n",
              "      <td>19.2</td>\n",
              "      <td>19.2</td>\n",
              "      <td>19.2</td>\n",
              "    </tr>\n",
              "    <tr>\n",
              "      <th>RH_2</th>\n",
              "      <td>44.79</td>\n",
              "      <td>44.7225</td>\n",
              "      <td>44.626667</td>\n",
              "      <td>44.59</td>\n",
              "      <td>44.53</td>\n",
              "    </tr>\n",
              "    <tr>\n",
              "      <th>T3</th>\n",
              "      <td>19.79</td>\n",
              "      <td>19.79</td>\n",
              "      <td>19.79</td>\n",
              "      <td>19.79</td>\n",
              "      <td>19.79</td>\n",
              "    </tr>\n",
              "    <tr>\n",
              "      <th>RH_3</th>\n",
              "      <td>44.73</td>\n",
              "      <td>44.79</td>\n",
              "      <td>44.933333</td>\n",
              "      <td>45.0</td>\n",
              "      <td>45.0</td>\n",
              "    </tr>\n",
              "    <tr>\n",
              "      <th>T4</th>\n",
              "      <td>19.0</td>\n",
              "      <td>19.0</td>\n",
              "      <td>18.926667</td>\n",
              "      <td>18.89</td>\n",
              "      <td>18.89</td>\n",
              "    </tr>\n",
              "    <tr>\n",
              "      <th>RH_4</th>\n",
              "      <td>45.566667</td>\n",
              "      <td>45.9925</td>\n",
              "      <td>45.89</td>\n",
              "      <td>45.723333</td>\n",
              "      <td>45.53</td>\n",
              "    </tr>\n",
              "    <tr>\n",
              "      <th>T5</th>\n",
              "      <td>17.166667</td>\n",
              "      <td>17.166667</td>\n",
              "      <td>17.166667</td>\n",
              "      <td>17.166667</td>\n",
              "      <td>17.2</td>\n",
              "    </tr>\n",
              "    <tr>\n",
              "      <th>RH_5</th>\n",
              "      <td>55.2</td>\n",
              "      <td>55.2</td>\n",
              "      <td>55.09</td>\n",
              "      <td>55.09</td>\n",
              "      <td>55.09</td>\n",
              "    </tr>\n",
              "    <tr>\n",
              "      <th>T6</th>\n",
              "      <td>7.026667</td>\n",
              "      <td>6.833333</td>\n",
              "      <td>6.56</td>\n",
              "      <td>6.433333</td>\n",
              "      <td>6.366667</td>\n",
              "    </tr>\n",
              "    <tr>\n",
              "      <th>RH_6</th>\n",
              "      <td>84.256667</td>\n",
              "      <td>84.063333</td>\n",
              "      <td>83.156667</td>\n",
              "      <td>83.423333</td>\n",
              "      <td>84.893333</td>\n",
              "    </tr>\n",
              "    <tr>\n",
              "      <th>T7</th>\n",
              "      <td>17.2</td>\n",
              "      <td>17.2</td>\n",
              "      <td>17.2</td>\n",
              "      <td>17.133333</td>\n",
              "      <td>17.2</td>\n",
              "    </tr>\n",
              "    <tr>\n",
              "      <th>RH_7</th>\n",
              "      <td>41.626667</td>\n",
              "      <td>41.56</td>\n",
              "      <td>41.433333</td>\n",
              "      <td>41.29</td>\n",
              "      <td>41.23</td>\n",
              "    </tr>\n",
              "    <tr>\n",
              "      <th>T8</th>\n",
              "      <td>18.2</td>\n",
              "      <td>18.2</td>\n",
              "      <td>18.2</td>\n",
              "      <td>18.1</td>\n",
              "      <td>18.1</td>\n",
              "    </tr>\n",
              "    <tr>\n",
              "      <th>RH_8</th>\n",
              "      <td>48.9</td>\n",
              "      <td>48.863333</td>\n",
              "      <td>48.73</td>\n",
              "      <td>48.59</td>\n",
              "      <td>48.59</td>\n",
              "    </tr>\n",
              "    <tr>\n",
              "      <th>T9</th>\n",
              "      <td>17.033333</td>\n",
              "      <td>17.066667</td>\n",
              "      <td>17.0</td>\n",
              "      <td>17.0</td>\n",
              "      <td>17.0</td>\n",
              "    </tr>\n",
              "    <tr>\n",
              "      <th>RH_9</th>\n",
              "      <td>45.53</td>\n",
              "      <td>45.56</td>\n",
              "      <td>45.5</td>\n",
              "      <td>45.4</td>\n",
              "      <td>45.4</td>\n",
              "    </tr>\n",
              "    <tr>\n",
              "      <th>T_out</th>\n",
              "      <td>6.6</td>\n",
              "      <td>6.483333</td>\n",
              "      <td>6.366667</td>\n",
              "      <td>6.25</td>\n",
              "      <td>6.133333</td>\n",
              "    </tr>\n",
              "    <tr>\n",
              "      <th>Press_mm_hg</th>\n",
              "      <td>733.5</td>\n",
              "      <td>733.6</td>\n",
              "      <td>733.7</td>\n",
              "      <td>733.8</td>\n",
              "      <td>733.9</td>\n",
              "    </tr>\n",
              "    <tr>\n",
              "      <th>RH_out</th>\n",
              "      <td>92.0</td>\n",
              "      <td>92.0</td>\n",
              "      <td>92.0</td>\n",
              "      <td>92.0</td>\n",
              "      <td>92.0</td>\n",
              "    </tr>\n",
              "    <tr>\n",
              "      <th>Windspeed</th>\n",
              "      <td>7.0</td>\n",
              "      <td>6.666667</td>\n",
              "      <td>6.333333</td>\n",
              "      <td>6.0</td>\n",
              "      <td>5.666667</td>\n",
              "    </tr>\n",
              "    <tr>\n",
              "      <th>Visibility</th>\n",
              "      <td>63.0</td>\n",
              "      <td>59.166667</td>\n",
              "      <td>55.333333</td>\n",
              "      <td>51.5</td>\n",
              "      <td>47.666667</td>\n",
              "    </tr>\n",
              "    <tr>\n",
              "      <th>Tdewpoint</th>\n",
              "      <td>5.3</td>\n",
              "      <td>5.2</td>\n",
              "      <td>5.1</td>\n",
              "      <td>5.0</td>\n",
              "      <td>4.9</td>\n",
              "    </tr>\n",
              "    <tr>\n",
              "      <th>rv1</th>\n",
              "      <td>13.275433</td>\n",
              "      <td>18.606195</td>\n",
              "      <td>28.642668</td>\n",
              "      <td>45.410389</td>\n",
              "      <td>10.084097</td>\n",
              "    </tr>\n",
              "    <tr>\n",
              "      <th>rv2</th>\n",
              "      <td>13.275433</td>\n",
              "      <td>18.606195</td>\n",
              "      <td>28.642668</td>\n",
              "      <td>45.410389</td>\n",
              "      <td>10.084097</td>\n",
              "    </tr>\n",
              "  </tbody>\n",
              "</table>\n",
              "</div>\n",
              "    <div class=\"colab-df-buttons\">\n",
              "\n",
              "  <div class=\"colab-df-container\">\n",
              "    <button class=\"colab-df-convert\" onclick=\"convertToInteractive('df-5ff0c69b-21dd-455b-b1c1-0b41ca23d2d0')\"\n",
              "            title=\"Convert this dataframe to an interactive table.\"\n",
              "            style=\"display:none;\">\n",
              "\n",
              "  <svg xmlns=\"http://www.w3.org/2000/svg\" height=\"24px\" viewBox=\"0 -960 960 960\">\n",
              "    <path d=\"M120-120v-720h720v720H120Zm60-500h600v-160H180v160Zm220 220h160v-160H400v160Zm0 220h160v-160H400v160ZM180-400h160v-160H180v160Zm440 0h160v-160H620v160ZM180-180h160v-160H180v160Zm440 0h160v-160H620v160Z\"/>\n",
              "  </svg>\n",
              "    </button>\n",
              "\n",
              "  <style>\n",
              "    .colab-df-container {\n",
              "      display:flex;\n",
              "      gap: 12px;\n",
              "    }\n",
              "\n",
              "    .colab-df-convert {\n",
              "      background-color: #E8F0FE;\n",
              "      border: none;\n",
              "      border-radius: 50%;\n",
              "      cursor: pointer;\n",
              "      display: none;\n",
              "      fill: #1967D2;\n",
              "      height: 32px;\n",
              "      padding: 0 0 0 0;\n",
              "      width: 32px;\n",
              "    }\n",
              "\n",
              "    .colab-df-convert:hover {\n",
              "      background-color: #E2EBFA;\n",
              "      box-shadow: 0px 1px 2px rgba(60, 64, 67, 0.3), 0px 1px 3px 1px rgba(60, 64, 67, 0.15);\n",
              "      fill: #174EA6;\n",
              "    }\n",
              "\n",
              "    .colab-df-buttons div {\n",
              "      margin-bottom: 4px;\n",
              "    }\n",
              "\n",
              "    [theme=dark] .colab-df-convert {\n",
              "      background-color: #3B4455;\n",
              "      fill: #D2E3FC;\n",
              "    }\n",
              "\n",
              "    [theme=dark] .colab-df-convert:hover {\n",
              "      background-color: #434B5C;\n",
              "      box-shadow: 0px 1px 3px 1px rgba(0, 0, 0, 0.15);\n",
              "      filter: drop-shadow(0px 1px 2px rgba(0, 0, 0, 0.3));\n",
              "      fill: #FFFFFF;\n",
              "    }\n",
              "  </style>\n",
              "\n",
              "    <script>\n",
              "      const buttonEl =\n",
              "        document.querySelector('#df-5ff0c69b-21dd-455b-b1c1-0b41ca23d2d0 button.colab-df-convert');\n",
              "      buttonEl.style.display =\n",
              "        google.colab.kernel.accessAllowed ? 'block' : 'none';\n",
              "\n",
              "      async function convertToInteractive(key) {\n",
              "        const element = document.querySelector('#df-5ff0c69b-21dd-455b-b1c1-0b41ca23d2d0');\n",
              "        const dataTable =\n",
              "          await google.colab.kernel.invokeFunction('convertToInteractive',\n",
              "                                                    [key], {});\n",
              "        if (!dataTable) return;\n",
              "\n",
              "        const docLinkHtml = 'Like what you see? Visit the ' +\n",
              "          '<a target=\"_blank\" href=https://colab.research.google.com/notebooks/data_table.ipynb>data table notebook</a>'\n",
              "          + ' to learn more about interactive tables.';\n",
              "        element.innerHTML = '';\n",
              "        dataTable['output_type'] = 'display_data';\n",
              "        await google.colab.output.renderOutput(dataTable, element);\n",
              "        const docLink = document.createElement('div');\n",
              "        docLink.innerHTML = docLinkHtml;\n",
              "        element.appendChild(docLink);\n",
              "      }\n",
              "    </script>\n",
              "  </div>\n",
              "\n",
              "\n",
              "<div id=\"df-f66cffcc-89c9-4505-82a1-760435881bb6\">\n",
              "  <button class=\"colab-df-quickchart\" onclick=\"quickchart('df-f66cffcc-89c9-4505-82a1-760435881bb6')\"\n",
              "            title=\"Suggest charts.\"\n",
              "            style=\"display:none;\">\n",
              "\n",
              "<svg xmlns=\"http://www.w3.org/2000/svg\" height=\"24px\"viewBox=\"0 0 24 24\"\n",
              "     width=\"24px\">\n",
              "    <g>\n",
              "        <path d=\"M19 3H5c-1.1 0-2 .9-2 2v14c0 1.1.9 2 2 2h14c1.1 0 2-.9 2-2V5c0-1.1-.9-2-2-2zM9 17H7v-7h2v7zm4 0h-2V7h2v10zm4 0h-2v-4h2v4z\"/>\n",
              "    </g>\n",
              "</svg>\n",
              "  </button>\n",
              "\n",
              "<style>\n",
              "  .colab-df-quickchart {\n",
              "      --bg-color: #E8F0FE;\n",
              "      --fill-color: #1967D2;\n",
              "      --hover-bg-color: #E2EBFA;\n",
              "      --hover-fill-color: #174EA6;\n",
              "      --disabled-fill-color: #AAA;\n",
              "      --disabled-bg-color: #DDD;\n",
              "  }\n",
              "\n",
              "  [theme=dark] .colab-df-quickchart {\n",
              "      --bg-color: #3B4455;\n",
              "      --fill-color: #D2E3FC;\n",
              "      --hover-bg-color: #434B5C;\n",
              "      --hover-fill-color: #FFFFFF;\n",
              "      --disabled-bg-color: #3B4455;\n",
              "      --disabled-fill-color: #666;\n",
              "  }\n",
              "\n",
              "  .colab-df-quickchart {\n",
              "    background-color: var(--bg-color);\n",
              "    border: none;\n",
              "    border-radius: 50%;\n",
              "    cursor: pointer;\n",
              "    display: none;\n",
              "    fill: var(--fill-color);\n",
              "    height: 32px;\n",
              "    padding: 0;\n",
              "    width: 32px;\n",
              "  }\n",
              "\n",
              "  .colab-df-quickchart:hover {\n",
              "    background-color: var(--hover-bg-color);\n",
              "    box-shadow: 0 1px 2px rgba(60, 64, 67, 0.3), 0 1px 3px 1px rgba(60, 64, 67, 0.15);\n",
              "    fill: var(--button-hover-fill-color);\n",
              "  }\n",
              "\n",
              "  .colab-df-quickchart-complete:disabled,\n",
              "  .colab-df-quickchart-complete:disabled:hover {\n",
              "    background-color: var(--disabled-bg-color);\n",
              "    fill: var(--disabled-fill-color);\n",
              "    box-shadow: none;\n",
              "  }\n",
              "\n",
              "  .colab-df-spinner {\n",
              "    border: 2px solid var(--fill-color);\n",
              "    border-color: transparent;\n",
              "    border-bottom-color: var(--fill-color);\n",
              "    animation:\n",
              "      spin 1s steps(1) infinite;\n",
              "  }\n",
              "\n",
              "  @keyframes spin {\n",
              "    0% {\n",
              "      border-color: transparent;\n",
              "      border-bottom-color: var(--fill-color);\n",
              "      border-left-color: var(--fill-color);\n",
              "    }\n",
              "    20% {\n",
              "      border-color: transparent;\n",
              "      border-left-color: var(--fill-color);\n",
              "      border-top-color: var(--fill-color);\n",
              "    }\n",
              "    30% {\n",
              "      border-color: transparent;\n",
              "      border-left-color: var(--fill-color);\n",
              "      border-top-color: var(--fill-color);\n",
              "      border-right-color: var(--fill-color);\n",
              "    }\n",
              "    40% {\n",
              "      border-color: transparent;\n",
              "      border-right-color: var(--fill-color);\n",
              "      border-top-color: var(--fill-color);\n",
              "    }\n",
              "    60% {\n",
              "      border-color: transparent;\n",
              "      border-right-color: var(--fill-color);\n",
              "    }\n",
              "    80% {\n",
              "      border-color: transparent;\n",
              "      border-right-color: var(--fill-color);\n",
              "      border-bottom-color: var(--fill-color);\n",
              "    }\n",
              "    90% {\n",
              "      border-color: transparent;\n",
              "      border-bottom-color: var(--fill-color);\n",
              "    }\n",
              "  }\n",
              "</style>\n",
              "\n",
              "  <script>\n",
              "    async function quickchart(key) {\n",
              "      const quickchartButtonEl =\n",
              "        document.querySelector('#' + key + ' button');\n",
              "      quickchartButtonEl.disabled = true;  // To prevent multiple clicks.\n",
              "      quickchartButtonEl.classList.add('colab-df-spinner');\n",
              "      try {\n",
              "        const charts = await google.colab.kernel.invokeFunction(\n",
              "            'suggestCharts', [key], {});\n",
              "      } catch (error) {\n",
              "        console.error('Error during call to suggestCharts:', error);\n",
              "      }\n",
              "      quickchartButtonEl.classList.remove('colab-df-spinner');\n",
              "      quickchartButtonEl.classList.add('colab-df-quickchart-complete');\n",
              "    }\n",
              "    (() => {\n",
              "      let quickchartButtonEl =\n",
              "        document.querySelector('#df-f66cffcc-89c9-4505-82a1-760435881bb6 button');\n",
              "      quickchartButtonEl.style.display =\n",
              "        google.colab.kernel.accessAllowed ? 'block' : 'none';\n",
              "    })();\n",
              "  </script>\n",
              "</div>\n",
              "    </div>\n",
              "  </div>\n"
            ]
          },
          "metadata": {},
          "execution_count": 23
        }
      ]
    },
    {
      "cell_type": "code",
      "source": [
        "df.info()    # Get information about the dataset"
      ],
      "metadata": {
        "colab": {
          "base_uri": "https://localhost:8080/"
        },
        "id": "3FCiwGkQXZiP",
        "outputId": "880ddef7-0917-4e4c-9c00-551bc73151a5"
      },
      "execution_count": 24,
      "outputs": [
        {
          "output_type": "stream",
          "name": "stdout",
          "text": [
            "<class 'pandas.core.frame.DataFrame'>\n",
            "RangeIndex: 19735 entries, 0 to 19734\n",
            "Data columns (total 29 columns):\n",
            " #   Column       Non-Null Count  Dtype  \n",
            "---  ------       --------------  -----  \n",
            " 0   date         19735 non-null  object \n",
            " 1   Appliances   19735 non-null  int64  \n",
            " 2   lights       19735 non-null  int64  \n",
            " 3   T1           19735 non-null  float64\n",
            " 4   RH_1         19735 non-null  float64\n",
            " 5   T2           19735 non-null  float64\n",
            " 6   RH_2         19735 non-null  float64\n",
            " 7   T3           19735 non-null  float64\n",
            " 8   RH_3         19735 non-null  float64\n",
            " 9   T4           19735 non-null  float64\n",
            " 10  RH_4         19735 non-null  float64\n",
            " 11  T5           19735 non-null  float64\n",
            " 12  RH_5         19735 non-null  float64\n",
            " 13  T6           19735 non-null  float64\n",
            " 14  RH_6         19735 non-null  float64\n",
            " 15  T7           19735 non-null  float64\n",
            " 16  RH_7         19735 non-null  float64\n",
            " 17  T8           19735 non-null  float64\n",
            " 18  RH_8         19735 non-null  float64\n",
            " 19  T9           19735 non-null  float64\n",
            " 20  RH_9         19735 non-null  float64\n",
            " 21  T_out        19735 non-null  float64\n",
            " 22  Press_mm_hg  19735 non-null  float64\n",
            " 23  RH_out       19735 non-null  float64\n",
            " 24  Windspeed    19735 non-null  float64\n",
            " 25  Visibility   19735 non-null  float64\n",
            " 26  Tdewpoint    19735 non-null  float64\n",
            " 27  rv1          19735 non-null  float64\n",
            " 28  rv2          19735 non-null  float64\n",
            "dtypes: float64(26), int64(2), object(1)\n",
            "memory usage: 4.4+ MB\n"
          ]
        }
      ]
    },
    {
      "cell_type": "code",
      "source": [
        "df.isnull().sum()   # Check for null values in dataset"
      ],
      "metadata": {
        "colab": {
          "base_uri": "https://localhost:8080/"
        },
        "id": "3ClwQtXrcypF",
        "outputId": "f6516bb3-2ece-42ac-fefe-d9d7ca78d4b0"
      },
      "execution_count": 25,
      "outputs": [
        {
          "output_type": "execute_result",
          "data": {
            "text/plain": [
              "date           0\n",
              "Appliances     0\n",
              "lights         0\n",
              "T1             0\n",
              "RH_1           0\n",
              "T2             0\n",
              "RH_2           0\n",
              "T3             0\n",
              "RH_3           0\n",
              "T4             0\n",
              "RH_4           0\n",
              "T5             0\n",
              "RH_5           0\n",
              "T6             0\n",
              "RH_6           0\n",
              "T7             0\n",
              "RH_7           0\n",
              "T8             0\n",
              "RH_8           0\n",
              "T9             0\n",
              "RH_9           0\n",
              "T_out          0\n",
              "Press_mm_hg    0\n",
              "RH_out         0\n",
              "Windspeed      0\n",
              "Visibility     0\n",
              "Tdewpoint      0\n",
              "rv1            0\n",
              "rv2            0\n",
              "dtype: int64"
            ]
          },
          "metadata": {},
          "execution_count": 25
        }
      ]
    },
    {
      "cell_type": "code",
      "source": [],
      "metadata": {
        "id": "MdpzYuIdM4pQ"
      },
      "execution_count": 25,
      "outputs": []
    },
    {
      "cell_type": "markdown",
      "source": [
        "Question 17: From the dataset, fit a linear model on the relationship between the temperature in the living room in Celsius (x = T2) and the temperature outside the building (y = T6). What is the Root Mean Squared error in three D.P?"
      ],
      "metadata": {
        "id": "5d9OfZ7KJiA8"
      }
    },
    {
      "cell_type": "code",
      "source": [
        "# Import necessary libraries\n",
        "import numpy as np\n",
        "from sklearn.model_selection import train_test_split\n",
        "from sklearn.linear_model import LinearRegression\n",
        "from sklearn.metrics import mean_squared_error\n",
        "\n",
        "# Prepare your data\n",
        "X = df['T2'].values.reshape(-1, 1)\n",
        "y = df['T6']\n",
        "\n",
        "# Split the data into training and testing sets\n",
        "X_train, X_test, y_train, y_test = train_test_split(X, y, test_size=0.2, random_state=42)\n",
        "\n",
        "# Fit a linear regression model\n",
        "model = LinearRegression()\n",
        "model.fit(X_train, y_train)\n",
        "\n",
        "# Make predictions\n",
        "y_pred = model.predict(X_test)\n",
        "\n",
        "# Calculate RMSE\n",
        "rmse = np.sqrt(mean_squared_error(y_test, y_pred))\n",
        "\n",
        "# Print the RMSE rounded to three decimal places\n",
        "print(f\"Root Mean Squared Error (RMSE): {rmse:.3f}\")\n"
      ],
      "metadata": {
        "colab": {
          "base_uri": "https://localhost:8080/"
        },
        "id": "nuHp-2sQc5ny",
        "outputId": "89a86bd8-5483-4150-909b-242ef5b69abe"
      },
      "execution_count": 26,
      "outputs": [
        {
          "output_type": "stream",
          "name": "stdout",
          "text": [
            "Root Mean Squared Error (RMSE): 3.633\n"
          ]
        }
      ]
    },
    {
      "cell_type": "code",
      "source": [],
      "metadata": {
        "id": "d0pzU_lrc5dW"
      },
      "execution_count": 26,
      "outputs": []
    },
    {
      "cell_type": "markdown",
      "source": [
        "Remove the following columns: [“date”, “lights”]. The target variable is “Appliances”. Use a 70-30 train-test set split with a  random state of 42 (for reproducibility). Normalize the dataset using the MinMaxScaler (Hint: Use the MinMaxScaler fit_transform and transform methods on the train and test set respectively). Run a multiple linear regression using the training set. Answer the following questions:\n",
        "\n",
        "Question 18: What is the Mean Absolute Error (in three decimal places) for the  training set?"
      ],
      "metadata": {
        "id": "vQbhf7Q2KWxg"
      }
    },
    {
      "cell_type": "code",
      "source": [
        "from sklearn.preprocessing import MinMaxScaler\n",
        "from sklearn.metrics import mean_absolute_error\n",
        "\n",
        "# Remove the specified columns\n",
        "data = df.drop(columns=[\"date\", \"lights\"])\n",
        "\n",
        "# Define the features (X) and the target variable (y)\n",
        "X = data.drop(columns=[\"Appliances\"])\n",
        "y = data[\"Appliances\"]\n",
        "\n",
        "# Split the data into training and testing sets\n",
        "X_train, X_test, y_train, y_test = train_test_split(X, y, test_size=0.3, random_state=42)\n",
        "\n",
        "# Initialize the MinMaxScaler and fit_transform on the training set\n",
        "scaler = MinMaxScaler()\n",
        "X_train_scaled = scaler.fit_transform(X_train)\n",
        "\n",
        "# Transform the test set using the scaler fitted on the training set\n",
        "X_test_scaled = scaler.transform(X_test)\n",
        "\n",
        "# Initialize and fit the multiple linear regression model\n",
        "model = LinearRegression()\n",
        "model.fit(X_train_scaled, y_train)\n",
        "\n",
        "# Make predictions on the training set\n",
        "y_train_pred = model.predict(X_train_scaled)\n",
        "\n",
        "# Calculate the Mean Absolute Error (MAE) on the training set\n",
        "mae = mean_absolute_error(y_train, y_train_pred)\n",
        "\n",
        "# Print the MAE rounded to three decimal places\n",
        "print(f\"Mean Absolute Error (MAE) for the training set: {mae:.3f}\")\n"
      ],
      "metadata": {
        "colab": {
          "base_uri": "https://localhost:8080/"
        },
        "id": "Fdh4Okuyc5RF",
        "outputId": "506a8faf-3b82-48a2-ee2c-34e329c6ecea"
      },
      "execution_count": 27,
      "outputs": [
        {
          "output_type": "stream",
          "name": "stdout",
          "text": [
            "Mean Absolute Error (MAE) for the training set: 53.742\n"
          ]
        }
      ]
    },
    {
      "cell_type": "code",
      "source": [],
      "metadata": {
        "id": "wUbAgxJXc5DW"
      },
      "execution_count": 27,
      "outputs": []
    },
    {
      "cell_type": "markdown",
      "source": [
        "Question 19: What is the Root Mean Squared Error (in three decimal places) for the training set?"
      ],
      "metadata": {
        "id": "jzUO1fR8KpRL"
      }
    },
    {
      "cell_type": "code",
      "source": [
        "\n",
        "# Make predictions on the training set\n",
        "y_train_pred = model.predict(X_train_scaled)\n",
        "\n",
        "# Calculate the Root Mean Squared Error (RMSE) on the training set\n",
        "rmse = np.sqrt(mean_squared_error(y_train, y_train_pred))\n",
        "\n",
        "# Print the RMSE rounded to three decimal places\n",
        "print(f\"Root Mean Squared Error (RMSE) for the training set: {rmse:.3f}\")\n"
      ],
      "metadata": {
        "colab": {
          "base_uri": "https://localhost:8080/"
        },
        "id": "ffBFsJoYsXIM",
        "outputId": "94ad2766-aa8a-4f6c-b74b-4c8ef1d445bd"
      },
      "execution_count": 28,
      "outputs": [
        {
          "output_type": "stream",
          "name": "stdout",
          "text": [
            "Root Mean Squared Error (RMSE) for the training set: 95.216\n"
          ]
        }
      ]
    },
    {
      "cell_type": "code",
      "source": [],
      "metadata": {
        "id": "i27ZLMr7sXEH"
      },
      "execution_count": null,
      "outputs": []
    },
    {
      "cell_type": "markdown",
      "source": [
        "Question 20: What is the Mean Absolute Error (in three decimal places) for test set?"
      ],
      "metadata": {
        "id": "pO_k9zW0KymK"
      }
    },
    {
      "cell_type": "code",
      "source": [
        "\n",
        "# Make predictions on the test set\n",
        "y_test_pred = model.predict(X_test_scaled)\n",
        "\n",
        "# Calculate the Mean Absolute Error (MAE) on the test set\n",
        "mae = mean_absolute_error(y_test, y_test_pred)\n",
        "\n",
        "# Print the MAE rounded to three decimal places\n",
        "print(f\"Mean Absolute Error (MAE) for the test set: {mae:.3f}\")\n"
      ],
      "metadata": {
        "colab": {
          "base_uri": "https://localhost:8080/"
        },
        "id": "gSYc4iTAs2od",
        "outputId": "0124dc8a-3f19-4c05-8cdd-08a6d9fd9f17"
      },
      "execution_count": 29,
      "outputs": [
        {
          "output_type": "stream",
          "name": "stdout",
          "text": [
            "Mean Absolute Error (MAE) for the test set: 53.643\n"
          ]
        }
      ]
    },
    {
      "cell_type": "code",
      "source": [],
      "metadata": {
        "id": "3HSH42pqsW_m"
      },
      "execution_count": null,
      "outputs": []
    },
    {
      "cell_type": "markdown",
      "source": [
        "Question 21: What is the Root Mean Squared Error (in three decimal places) for test set?"
      ],
      "metadata": {
        "id": "usYnU5JWK_CY"
      }
    },
    {
      "cell_type": "code",
      "source": [
        "\n",
        "# Make predictions on the test set\n",
        "y_test_pred = model.predict(X_test_scaled)\n",
        "\n",
        "# Calculate the Root Mean Squared Error (RMSE) on the test set\n",
        "rmse = np.sqrt(mean_squared_error(y_test, y_test_pred))\n",
        "\n",
        "# Print the RMSE rounded to three decimal places\n",
        "print(f\"Root Mean Squared Error (RMSE) for the test set: {rmse:.3f}\")\n"
      ],
      "metadata": {
        "colab": {
          "base_uri": "https://localhost:8080/"
        },
        "id": "ub2GcCtQsW3R",
        "outputId": "cabd5d1f-bc0f-4ae8-cb9b-6962e0004b1f"
      },
      "execution_count": 30,
      "outputs": [
        {
          "output_type": "stream",
          "name": "stdout",
          "text": [
            "Root Mean Squared Error (RMSE) for the test set: 93.640\n"
          ]
        }
      ]
    },
    {
      "cell_type": "code",
      "source": [],
      "metadata": {
        "id": "RR-2daNftXjF"
      },
      "execution_count": 30,
      "outputs": []
    },
    {
      "cell_type": "markdown",
      "source": [
        "Question 22: Did the Model above overfit to the training set"
      ],
      "metadata": {
        "id": "I3FmY7NiLI9B"
      }
    },
    {
      "cell_type": "markdown",
      "source": [
        "No, based on the RMSE values, it does not seem that the model has overfit the training set. The closeness of the RMSE values on the training and test sets suggests that the model is performing consistently on both datasets."
      ],
      "metadata": {
        "id": "-rcutUCOLhwA"
      }
    },
    {
      "cell_type": "code",
      "source": [],
      "metadata": {
        "id": "koGVGfgCL6-0"
      },
      "execution_count": 30,
      "outputs": []
    },
    {
      "cell_type": "markdown",
      "source": [
        "Question 23: Train a ridge regression model with default parameters. Is there any change to the root mean squared error (RMSE) when evaluated on the test set?"
      ],
      "metadata": {
        "id": "teFyHYv3LRbk"
      }
    },
    {
      "cell_type": "code",
      "source": [
        "from sklearn.linear_model import Ridge\n",
        "\n",
        "X_train, X_test, y_train, y_test = train_test_split(X, y, test_size=0.3, random_state=42)\n",
        "ridge_model = Ridge()  # Default alpha (regularization strength) is 1.0\n",
        "ridge_model.fit(X_train, y_train)\n",
        "y_pred = ridge_model.predict(X_test)\n",
        "rmse = np.sqrt(mean_squared_error(y_test, y_pred))\n",
        "print(f\"Root Mean Squared Error (RMSE): {rmse:.3f}\")\n"
      ],
      "metadata": {
        "colab": {
          "base_uri": "https://localhost:8080/"
        },
        "id": "ivFWGXXxtXd8",
        "outputId": "0601d6d7-9824-4131-dea2-f71d809bf0ea"
      },
      "execution_count": 34,
      "outputs": [
        {
          "output_type": "stream",
          "name": "stdout",
          "text": [
            "Root Mean Squared Error (RMSE): 93.641\n"
          ]
        }
      ]
    },
    {
      "cell_type": "markdown",
      "source": [
        "RMSE for test set is 93.640 and RMSE for Ridge regression is 93.641. As seen, the difference in RMSE is insignificantly small which makes the RMSE values the same."
      ],
      "metadata": {
        "id": "HxNJkOt-O6WS"
      }
    },
    {
      "cell_type": "code",
      "source": [],
      "metadata": {
        "id": "BHeSk1C_tXYy"
      },
      "execution_count": 34,
      "outputs": []
    },
    {
      "cell_type": "markdown",
      "source": [
        "Question 24: Train a lasso regression model with default value and obtain the new feature weights with it. How many of the features have non-zero feature weights?"
      ],
      "metadata": {
        "id": "gTXgTgUHL-CJ"
      }
    },
    {
      "cell_type": "code",
      "source": [
        "from sklearn.linear_model import Lasso\n",
        "lasso_model = Lasso()  # Default alpha (regularization strength) is 1.0\n",
        "lasso_model.fit(X, y)\n",
        "feature_weights = lasso_model.coef_\n",
        "non_zero_feature_count = np.sum(feature_weights != 0)\n",
        "print(\"Number of features with non-zero weights:\", non_zero_feature_count)\n"
      ],
      "metadata": {
        "colab": {
          "base_uri": "https://localhost:8080/"
        },
        "id": "WY8YxLPetXK7",
        "outputId": "02e2837b-ac66-4f1d-87aa-f69f300ff5e0"
      },
      "execution_count": 35,
      "outputs": [
        {
          "output_type": "stream",
          "name": "stdout",
          "text": [
            "Number of features with non-zero weights: 19\n"
          ]
        }
      ]
    },
    {
      "cell_type": "code",
      "source": [],
      "metadata": {
        "id": "PO6iLOMNv7K9"
      },
      "execution_count": 35,
      "outputs": []
    },
    {
      "cell_type": "markdown",
      "source": [
        "Question 25: What is the new RMSE with the Lasso Regression on the test set?"
      ],
      "metadata": {
        "id": "fitSAJF4MGEq"
      }
    },
    {
      "cell_type": "code",
      "source": [
        "y_pred = lasso_model.predict(X_test)\n",
        "rmse = np.sqrt(mean_squared_error(y_test, y_pred))\n",
        "print(f\"Root Mean Squared Error (RMSE) with the Lasso Regression on the test set: {rmse:.3f}\")"
      ],
      "metadata": {
        "colab": {
          "base_uri": "https://localhost:8080/"
        },
        "id": "bsQL3DFQv7Gj",
        "outputId": "493d0d70-a84a-4396-c614-dfddb91aa2d3"
      },
      "execution_count": 20,
      "outputs": [
        {
          "output_type": "stream",
          "name": "stdout",
          "text": [
            "Root Mean Squared Error (RMSE) with the Lasso Regression on the test set: 93.750\n"
          ]
        }
      ]
    },
    {
      "cell_type": "code",
      "source": [],
      "metadata": {
        "id": "H1vf5UY8v6-u"
      },
      "execution_count": null,
      "outputs": []
    }
  ]
}